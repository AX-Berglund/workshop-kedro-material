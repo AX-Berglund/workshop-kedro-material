{
 "cells": [
  {
   "cell_type": "markdown",
   "metadata": {},
   "source": [
    "# Initializing data sources\n",
    "\n",
    "Start by creating a new bucket called `reddit-submissions` in MinIO. The portal should be accessible on http://127.0.0.1:9001/.\n",
    "\n",
    "We can then load the sample file into the object storage, to be used by Kedro later."
   ]
  },
  {
   "cell_type": "code",
   "execution_count": null,
   "metadata": {},
   "outputs": [],
   "source": [
    "import polars as pl\n",
    "import os\n",
    "\n",
    "df = pl.read_csv(\"consice_reddit.csv\")"
   ]
  },
  {
   "cell_type": "code",
   "execution_count": null,
   "metadata": {},
   "outputs": [],
   "source": [
    "%load_ext dotenv"
   ]
  },
  {
   "cell_type": "code",
   "execution_count": null,
   "metadata": {},
   "outputs": [],
   "source": [
    "%dotenv"
   ]
  },
  {
   "cell_type": "code",
   "execution_count": null,
   "metadata": {},
   "outputs": [],
   "source": [
    "minio_endpoint_url = os.environ[\"MINIO_ENDPOINT_URL\"]\n",
    "minio_access_key = os.environ[\"MINIO_KEY\"]\n",
    "minio_secret_id = os.environ[\"MINIO_SECRET\"]"
   ]
  },
  {
   "cell_type": "code",
   "execution_count": null,
   "metadata": {},
   "outputs": [],
   "source": [
    "minio_storage_options = {\n",
    "    \"AWS_ENDPOINT_URL\": minio_endpoint_url,\n",
    "    \"AWS_ACCESS_KEY_ID\": minio_access_key,\n",
    "    \"AWS_SECRET_ACCESS_KEY\": minio_secret_id,\n",
    "    \"AWS_REGION\": \"<localhost>\",  # Boilerplate\n",
    "    \"AWS_ALLOW_HTTP\": \"true\",  # Boilerplate\n",
    "    \"AWS_S3_ALLOW_UNSAFE_RENAME\": \"true\",  # Boilerplate\n",
    "}"
   ]
  },
  {
   "cell_type": "code",
   "execution_count": null,
   "metadata": {},
   "outputs": [],
   "source": [
    "df.write_delta(\"s3://reddit-submissions/submissions-raw\", mode=\"overwrite\", storage_options=minio_storage_options)"
   ]
  }
 ],
 "metadata": {
  "kernelspec": {
   "display_name": "kedro_with_llms",
   "language": "python",
   "name": "python3"
  },
  "language_info": {
   "codemirror_mode": {
    "name": "ipython",
    "version": 3
   },
   "file_extension": ".py",
   "mimetype": "text/x-python",
   "name": "python",
   "nbconvert_exporter": "python",
   "pygments_lexer": "ipython3",
   "version": "3.11.9"
  }
 },
 "nbformat": 4,
 "nbformat_minor": 2
}
