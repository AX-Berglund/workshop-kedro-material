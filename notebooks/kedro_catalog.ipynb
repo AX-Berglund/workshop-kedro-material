{
 "cells": [
  {
   "cell_type": "code",
   "execution_count": 12,
   "metadata": {},
   "outputs": [],
   "source": [
    "from kedro.io import DataCatalog\n",
    "from kedro.config import OmegaConfigLoader"
   ]
  },
  {
   "cell_type": "code",
   "execution_count": 13,
   "metadata": {},
   "outputs": [
    {
     "name": "stdout",
     "output_type": "stream",
     "text": [
      "The kedro.ipython extension is already loaded. To reload it, use:\n",
      "  %reload_ext kedro.ipython\n"
     ]
    }
   ],
   "source": [
    "%load_ext kedro.ipython"
   ]
  },
  {
   "cell_type": "code",
   "execution_count": 14,
   "metadata": {},
   "outputs": [
    {
     "data": {
      "text/html": [
       "<pre style=\"white-space:pre;overflow-x:auto;line-height:normal;font-family:Menlo,'DejaVu Sans Mono',consolas,'Courier New',monospace\"></pre>\n"
      ],
      "text/plain": []
     },
     "metadata": {},
     "output_type": "display_data"
    },
    {
     "data": {
      "text/plain": [
       "\u001b[1m[\u001b[0m\u001b[32m'submissions-raw'\u001b[0m, \u001b[32m'submissions-summaries'\u001b[0m, \u001b[32m'parameters'\u001b[0m\u001b[1m]\u001b[0m"
      ]
     },
     "execution_count": 14,
     "metadata": {},
     "output_type": "execute_result"
    }
   ],
   "source": [
    "catalog.list()"
   ]
  },
  {
   "cell_type": "code",
   "execution_count": 25,
   "metadata": {},
   "outputs": [
    {
     "data": {
      "text/html": [
       "<pre style=\"white-space:pre;overflow-x:auto;line-height:normal;font-family:Menlo,'DejaVu Sans Mono',consolas,'Courier New',monospace\"><span style=\"color: #7fbfbf; text-decoration-color: #7fbfbf\">[05/15/24 10:36:21] </span><span style=\"color: #000080; text-decoration-color: #000080\">INFO    </span> Loading data from <span style=\"color: #ff8700; text-decoration-color: #ff8700\">submissions-summaries</span> <span style=\"font-weight: bold\">(</span>DeltaPolarsDataset<span style=\"font-weight: bold\">)</span><span style=\"color: #808000; text-decoration-color: #808000\">...</span>    <a href=\"file:///Users/Axel_Backlund/anaconda3/envs/kedro_with_llms/lib/python3.11/site-packages/kedro/io/data_catalog.py\" target=\"_blank\"><span style=\"color: #7f7f7f; text-decoration-color: #7f7f7f\">data_catalog.py</span></a><span style=\"color: #7f7f7f; text-decoration-color: #7f7f7f\">:</span><a href=\"file:///Users/Axel_Backlund/anaconda3/envs/kedro_with_llms/lib/python3.11/site-packages/kedro/io/data_catalog.py#483\" target=\"_blank\"><span style=\"color: #7f7f7f; text-decoration-color: #7f7f7f\">483</span></a>\n",
       "</pre>\n"
      ],
      "text/plain": [
       "\u001b[2;36m[05/15/24 10:36:21]\u001b[0m\u001b[2;36m \u001b[0m\u001b[34mINFO    \u001b[0m Loading data from \u001b[38;5;208msubmissions-summaries\u001b[0m \u001b[1m(\u001b[0mDeltaPolarsDataset\u001b[1m)\u001b[0m\u001b[33m...\u001b[0m    \u001b]8;id=268461;file:///Users/Axel_Backlund/anaconda3/envs/kedro_with_llms/lib/python3.11/site-packages/kedro/io/data_catalog.py\u001b\\\u001b[2mdata_catalog.py\u001b[0m\u001b]8;;\u001b\\\u001b[2m:\u001b[0m\u001b]8;id=863527;file:///Users/Axel_Backlund/anaconda3/envs/kedro_with_llms/lib/python3.11/site-packages/kedro/io/data_catalog.py#483\u001b\\\u001b[2m483\u001b[0m\u001b]8;;\u001b\\\n"
      ]
     },
     "metadata": {},
     "output_type": "display_data"
    }
   ],
   "source": [
    "df = catalog.load(\"submissions-raw\")"
   ]
  },
  {
   "cell_type": "code",
   "execution_count": 26,
   "metadata": {},
   "outputs": [
    {
     "data": {
      "text/html": [
       "<pre style=\"white-space:pre;overflow-x:auto;line-height:normal;font-family:Menlo,'DejaVu Sans Mono',consolas,'Courier New',monospace\"></pre>\n"
      ],
      "text/plain": []
     },
     "metadata": {},
     "output_type": "display_data"
    },
    {
     "data": {
      "text/html": [
       "<div><style>\n",
       ".dataframe > thead > tr,\n",
       ".dataframe > tbody > tr {\n",
       "  text-align: right;\n",
       "  white-space: pre-wrap;\n",
       "}\n",
       "</style>\n",
       "<small>shape: (5, 7)</small><table border=\"1\" class=\"dataframe\"><thead><tr><th>author_name</th><th>creation_datetime</th><th>permalink</th><th>title</th><th>selftext</th><th>joke_explanation</th><th>funniness</th></tr><tr><td>str</td><td>str</td><td>str</td><td>str</td><td>str</td><td>str</td><td>i8</td></tr></thead><tbody><tr><td>&quot;terp-bick&quot;</td><td>&quot;2024-05-13 17:…</td><td>&quot;/r/Jokes/comme…</td><td>&quot;How do FBI age…</td><td>&quot;With cladisthe…</td><td>&quot;This joke is a…</td><td>2</td></tr><tr><td>&quot;lortogporrer&quot;</td><td>&quot;2024-05-14 14:…</td><td>&quot;/r/Jokes/comme…</td><td>&quot;Some people ar…</td><td>&quot;I asked a guy …</td><td>&quot;This joke is a…</td><td>3</td></tr><tr><td>&quot;Onowl&quot;</td><td>&quot;2024-05-14 09:…</td><td>&quot;/r/Jokes/comme…</td><td>&quot;Professor: Wha…</td><td>&quot;Student: If yo…</td><td>&quot;In this joke, …</td><td>3</td></tr><tr><td>&quot;countofcontech…</td><td>&quot;2024-05-13 20:…</td><td>&quot;/r/Jokes/comme…</td><td>&quot;Are you aware …</td><td>&quot;They are calli…</td><td>&quot;This joke is l…</td><td>1</td></tr><tr><td>&quot;Wallygonk&quot;</td><td>&quot;2024-05-14 09:…</td><td>&quot;/r/Jokes/comme…</td><td>&quot;I&#x27;ve finally f…</td><td>&quot;Just going to …</td><td>&quot;This joke is a…</td><td>3</td></tr></tbody></table></div>"
      ],
      "text/plain": [
       "\n",
       "shape: \u001b[1m(\u001b[0m\u001b[1;36m5\u001b[0m, \u001b[1;36m7\u001b[0m\u001b[1m)\u001b[0m\n",
       "┌──────────────┬──────────────┬──────────────┬─────────────┬─────────────┬─────────────┬───────────┐\n",
       "│ author_name  ┆ creation_dat ┆ permalink    ┆ title       ┆ selftext    ┆ joke_explan ┆ funniness │\n",
       "│ ---          ┆ etime        ┆ ---          ┆ ---         ┆ ---         ┆ ation       ┆ ---       │\n",
       "│ str          ┆ ---          ┆ str          ┆ str         ┆ str         ┆ ---         ┆ i8        │\n",
       "│              ┆ str          ┆              ┆             ┆             ┆ str         ┆           │\n",
       "╞══════════════╪══════════════╪══════════════╪═════════════╪═════════════╪═════════════╪═══════════╡\n",
       "│ terp-bick    ┆ \u001b[1;36m2024\u001b[0m-\u001b[1;36m05\u001b[0m-\u001b[1;36m13\u001b[0m   ┆ \u001b[35m/r/Jokes/\u001b[0m\u001b[95mcom\u001b[0m ┆ How do FBI  ┆ With cladis ┆ This joke   ┆ \u001b[1;36m2\u001b[0m         │\n",
       "│              ┆ \u001b[1;92m17:16:52\u001b[0m     ┆ ments/1cr4r3 ┆ agents      ┆ thenics!    ┆ is a play   ┆           │\n",
       "│              ┆              ┆ z/how_do…    ┆ build       ┆             ┆ on words    ┆           │\n",
       "│              ┆              ┆              ┆ muscle?     ┆             ┆ com…        ┆           │\n",
       "│ lortogporrer ┆ \u001b[1;36m2024\u001b[0m-\u001b[1;36m05\u001b[0m-\u001b[1;36m14\u001b[0m   ┆ \u001b[35m/r/Jokes/\u001b[0m\u001b[95mcom\u001b[0m ┆ Some people ┆ I asked a   ┆ This joke   ┆ \u001b[1;36m3\u001b[0m         │\n",
       "│              ┆ \u001b[1;92m14:38:13\u001b[0m     ┆ ments/1crtr2 ┆ are just    ┆ guy at the  ┆ is a play   ┆           │\n",
       "│              ┆              ┆ n/some_p…    ┆ too         ┆ barbeque    ┆ on words    ┆           │\n",
       "│              ┆              ┆              ┆ sensiti…    ┆ fo…         ┆ com…        ┆           │\n",
       "│ Onowl        ┆ \u001b[1;36m2024\u001b[0m-\u001b[1;36m05\u001b[0m-\u001b[1;36m14\u001b[0m   ┆ \u001b[35m/r/Jokes/\u001b[0m\u001b[95mcom\u001b[0m ┆ Professor:  ┆ Student: If ┆ In this     ┆ \u001b[1;36m3\u001b[0m         │\n",
       "│              ┆ \u001b[1;92m09:54:52\u001b[0m     ┆ ments/1crobq ┆ What is     ┆ you don’t   ┆ joke, the   ┆           │\n",
       "│              ┆              ┆ h/profes…    ┆ fraud?      ┆ let me pas… ┆ student     ┆           │\n",
       "│              ┆              ┆              ┆             ┆             ┆ clever…     ┆           │\n",
       "│ countofconte ┆ \u001b[1;36m2024\u001b[0m-\u001b[1;36m05\u001b[0m-\u001b[1;36m13\u001b[0m   ┆ \u001b[35m/r/Jokes/\u001b[0m\u001b[95mcom\u001b[0m ┆ Are you     ┆ They are    ┆ This joke   ┆ \u001b[1;36m1\u001b[0m         │\n",
       "│ christ       ┆ \u001b[1;92m20:15:46\u001b[0m     ┆ ments/1cr97y ┆ aware of    ┆ calling     ┆ is likely a ┆           │\n",
       "│              ┆              ┆ q/are_yo…    ┆ these new   ┆ them Nikea. ┆ play on wo… ┆           │\n",
       "│              ┆              ┆              ┆ kind …      ┆             ┆             ┆           │\n",
       "│ Wallygonk    ┆ \u001b[1;36m2024\u001b[0m-\u001b[1;36m05\u001b[0m-\u001b[1;36m14\u001b[0m   ┆ \u001b[35m/r/Jokes/\u001b[0m\u001b[95mcom\u001b[0m ┆ I've        ┆ Just going  ┆ This joke   ┆ \u001b[1;36m3\u001b[0m         │\n",
       "│              ┆ \u001b[1;92m09:49:45\u001b[0m     ┆ ments/1cro93 ┆ finally     ┆ to take it  ┆ is a play   ┆           │\n",
       "│              ┆              ┆ z/ive_fi…    ┆ finished    ┆ out for a … ┆ on words    ┆           │\n",
       "│              ┆              ┆              ┆ building a… ┆             ┆ tha…        ┆           │\n",
       "└──────────────┴──────────────┴──────────────┴─────────────┴─────────────┴─────────────┴───────────┘"
      ]
     },
     "execution_count": 26,
     "metadata": {},
     "output_type": "execute_result"
    }
   ],
   "source": [
    "df.head()"
   ]
  }
 ],
 "metadata": {
  "kernelspec": {
   "display_name": ".venv",
   "language": "python",
   "name": "python3"
  },
  "language_info": {
   "codemirror_mode": {
    "name": "ipython",
    "version": 3
   },
   "file_extension": ".py",
   "mimetype": "text/x-python",
   "name": "python",
   "nbconvert_exporter": "python",
   "pygments_lexer": "ipython3",
   "version": "3.11.9"
  }
 },
 "nbformat": 4,
 "nbformat_minor": 2
}
